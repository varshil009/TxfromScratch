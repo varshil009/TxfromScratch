{
 "cells": [
  {
   "cell_type": "code",
   "execution_count": 2,
   "id": "fb82a16d",
   "metadata": {},
   "outputs": [],
   "source": [
    "import torch\n",
    "import torch.nn as nn\n",
    "import torch.nn.functional as F"
   ]
  },
  {
   "cell_type": "code",
   "execution_count": 36,
   "id": "31f63a98",
   "metadata": {},
   "outputs": [],
   "source": [
    "# batch size / parallel random contexts\n",
    "batch_size = 32\n",
    "\n",
    "# block size / length of context\n",
    "block_size = 8\n",
    "\n",
    "max_iter = 10000\n",
    "eval_iter = 200\n",
    "\n",
    "eval_interval = 300\n",
    "lr = 1e-3\n",
    "device = torch.device('cuda' if torch.cuda.is_available() else 'cpu') \n",
    "\n",
    "n_embed = 65\n",
    "n_head = 6\n",
    "n_layer = 6\n",
    "dropout = 0.2\n"
   ]
  },
  {
   "cell_type": "code",
   "execution_count": 4,
   "id": "c561f09c",
   "metadata": {},
   "outputs": [
    {
     "data": {
      "text/plain": [
       "<torch._C.Generator at 0x24c2733d0d0>"
      ]
     },
     "execution_count": 4,
     "metadata": {},
     "output_type": "execute_result"
    }
   ],
   "source": [
    "torch.manual_seed(22)"
   ]
  },
  {
   "cell_type": "code",
   "execution_count": 5,
   "id": "d512be90",
   "metadata": {},
   "outputs": [],
   "source": [
    "with open(\"input.txt\", 'r') as f:\n",
    "    text = f.read()"
   ]
  },
  {
   "cell_type": "code",
   "execution_count": 6,
   "id": "53f8ee5c",
   "metadata": {},
   "outputs": [
    {
     "name": "stdout",
     "output_type": "stream",
     "text": [
      "First Citizen:\n",
      "Before we proceed any further, hear me speak.\n",
      "\n",
      "All:\n",
      "Speak, speak.\n",
      "\n",
      "First Citizen:\n",
      "You are all resolved rather to die than to famish?\n",
      "\n",
      "All:\n",
      "Resolved. resolved.\n",
      "\n",
      "First Citizen:\n",
      "First, you know Caius Marcius is chief enemy to the people.\n",
      "\n",
      "All:\n",
      "We know't, we know't.\n",
      "\n",
      "First Citizen:\n",
      "Let us kill him, and we'll have corn at our own price.\n",
      "Is't a verdict?\n",
      "\n",
      "All:\n",
      "No more talking on't; let it be done: away, away!\n",
      "\n",
      "Second Citizen:\n",
      "One word, good citizens.\n",
      "\n",
      "First Citizen:\n",
      "We are accounted poor\n"
     ]
    }
   ],
   "source": [
    "print(text[:500])"
   ]
  },
  {
   "cell_type": "code",
   "execution_count": 7,
   "id": "8a69e7c2",
   "metadata": {},
   "outputs": [
    {
     "name": "stdout",
     "output_type": "stream",
     "text": [
      "{'d', 'Y', 'e', 'c', 'W', 'l', '-', 'T', '&', ';', 'z', 'N', 'R', '3', 'F', '?', 'w', 'j', 't', 'K', 's', ' ', 'g', '!', 'U', '$', 'k', 'E', 'x', 'G', 'A', 'H', 'y', 'I', 'L', 'S', 'M', 'o', 'h', 'V', 'X', 'i', 'P', 'J', 'f', 'b', 'C', '.', '\\n', 'v', 'O', 'm', 'Z', ':', 'u', 'Q', 'B', 'r', 'a', ',', 'n', 'D', 'q', 'p', \"'\"} \n",
      " {'d': 0, 'Y': 1, 'e': 2, 'c': 3, 'W': 4, 'l': 5, '-': 6, 'T': 7, '&': 8, ';': 9, 'z': 10, 'N': 11, 'R': 12, '3': 13, 'F': 14, '?': 15, 'w': 16, 'j': 17, 't': 18, 'K': 19, 's': 20, ' ': 21, 'g': 22, '!': 23, 'U': 24, '$': 25, 'k': 26, 'E': 27, 'x': 28, 'G': 29, 'A': 30, 'H': 31, 'y': 32, 'I': 33, 'L': 34, 'S': 35, 'M': 36, 'o': 37, 'h': 38, 'V': 39, 'X': 40, 'i': 41, 'P': 42, 'J': 43, 'f': 44, 'b': 45, 'C': 46, '.': 47, '\\n': 48, 'v': 49, 'O': 50, 'm': 51, 'Z': 52, ':': 53, 'u': 54, 'Q': 55, 'B': 56, 'r': 57, 'a': 58, ',': 59, 'n': 60, 'D': 61, 'q': 62, 'p': 63, \"'\": 64} \n",
      " {0: 'd', 1: 'Y', 2: 'e', 3: 'c', 4: 'W', 5: 'l', 6: '-', 7: 'T', 8: '&', 9: ';', 10: 'z', 11: 'N', 12: 'R', 13: '3', 14: 'F', 15: '?', 16: 'w', 17: 'j', 18: 't', 19: 'K', 20: 's', 21: ' ', 22: 'g', 23: '!', 24: 'U', 25: '$', 26: 'k', 27: 'E', 28: 'x', 29: 'G', 30: 'A', 31: 'H', 32: 'y', 33: 'I', 34: 'L', 35: 'S', 36: 'M', 37: 'o', 38: 'h', 39: 'V', 40: 'X', 41: 'i', 42: 'P', 43: 'J', 44: 'f', 45: 'b', 46: 'C', 47: '.', 48: '\\n', 49: 'v', 50: 'O', 51: 'm', 52: 'Z', 53: ':', 54: 'u', 55: 'Q', 56: 'B', 57: 'r', 58: 'a', 59: ',', 60: 'n', 61: 'D', 62: 'q', 63: 'p', 64: \"'\"}\n"
     ]
    }
   ],
   "source": [
    "# take out unique characters and make encoder and decoder functions\n",
    "vocab = set(text)\n",
    "decoded = {i : x for i,x in enumerate(vocab)}\n",
    "encoded = {x : i for i,x in enumerate(vocab)}\n",
    "\n",
    "encoder = lambda text : [encoded[x] for x in text]\n",
    "decoder = lambda text : ''.join([decoded[x] for x in text])\n",
    "print(vocab, \"\\n\", encoded, \"\\n\", decoded)"
   ]
  },
  {
   "cell_type": "code",
   "execution_count": 37,
   "id": "0e9f179a",
   "metadata": {},
   "outputs": [],
   "source": [
    "vocab_size = len(vocab)\n",
    "data = torch.tensor(encoder(text))\n",
    "n = int(len(data) * 0.85)\n",
    "\n",
    "trainX = data[:n]\n",
    "testX = data[n:]"
   ]
  },
  {
   "cell_type": "code",
   "execution_count": 38,
   "id": "3c8a849a",
   "metadata": {},
   "outputs": [],
   "source": [
    "def get_batch(x):\n",
    "    data = trainX if x == 'train' else testX\n",
    "    # get random contexts starting index for given batch size parallel processing\n",
    "    idx = torch.randint(len(data) - block_size, (batch_size,))\n",
    "\n",
    "    rcx = torch.stack([data[i: i + block_size] for i in idx])\n",
    "    rcy = torch.stack([data[i+1 : i + block_size + 1] for i in idx])\n",
    "    \n",
    "    return rcx, rcy"
   ]
  },
  {
   "cell_type": "code",
   "execution_count": 39,
   "id": "cf11690a",
   "metadata": {},
   "outputs": [],
   "source": [
    "@torch.no_grad()\n",
    "def estimate_loss():\n",
    "    out = {}\n",
    "    model.eval()\n",
    "    for split in ['train', 'test']:\n",
    "        losses = torch.zeros(eval_iter)\n",
    "        for x in range(eval_iter):\n",
    "            X, y = get_batch(split)\n",
    "            logits, loss = model(X, y)\n",
    "            losses[x] = loss.item()\n",
    "            \n",
    "        out[split] = losses.mean()\n",
    "    model.train()\n",
    "    return out"
   ]
  },
  {
   "cell_type": "code",
   "execution_count": 40,
   "id": "fb813bbb",
   "metadata": {},
   "outputs": [],
   "source": [
    "class Head(nn.Module):\n",
    "    # one head of self attention\n",
    "    \n",
    "    def __init__(self, head_size):\n",
    "        super().__init__()\n",
    "        self.key = nn.Linear(n_embed, head_size, bias = False)\n",
    "        self.query = nn.Linear(n_embed, head_size, bias = False)\n",
    "        self.value = nn.Linear(n_embed, head_size, bias = False)\n",
    "        #  if i write triangle  in register buffer instead of tril i can write self.triangle in forward later\n",
    "        # The register_buffer function in PyTorch lets you name and store tensors that should be saved with the\n",
    "        # model but don't need gradients for training\n",
    "        # like a constant tensor\n",
    "        self.register_buffer('tril', torch.tril(torch.ones(block_size, block_size)))\n",
    "        self.dropout = nn.Dropout(dropout)\n",
    "        \n",
    "    def forward(self, x):\n",
    "        B, T, C = x.shape\n",
    "        \n",
    "        # bring out embeddings for related X \n",
    "        # embedding are like encodings and are only used to fetch encoded values and not any calculation\n",
    "        k = self.key(x) # B, T, hs\n",
    "        q = self.query(x) # B, T, hs\n",
    "        v = self.value(x) # B, T, hs       \n",
    "        \n",
    "        # get attention scores\n",
    "        scores = q @ k.transpose(-2, -1) * k.shape[-1] ** (-0.5)\n",
    "        scores = scores.masked_fill(self.tril[:T, :T] == 0, float('-inf'))\n",
    "        scores = F.softmax(scores, dim = -1)\n",
    "        scores = self.dropout(scores)\n",
    "        \n",
    "        scores = scores @ v\n",
    "        \n",
    "        return scores\n"
   ]
  },
  {
   "attachments": {
    "image.png": {
     "image/png": "[encoded data removed]"
    }
   },
   "cell_type": "markdown",
   "id": "c494d93f",
   "metadata": {},
   "source": [
    "### The formula used in scores var in fwd function of single head\n",
    "![image.png](attachment:image.png)"
   ]
  },
  {
   "cell_type": "code",
   "execution_count": 56,
   "id": "bb933eec",
   "metadata": {},
   "outputs": [
    {
     "data": {
      "text/plain": [
       "tensor([[1., -inf, -inf, -inf, -inf, -inf, -inf, -inf],\n",
       "        [1., 1., -inf, -inf, -inf, -inf, -inf, -inf],\n",
       "        [1., 1., 1., -inf, -inf, -inf, -inf, -inf],\n",
       "        [1., 1., 1., 1., -inf, -inf, -inf, -inf],\n",
       "        [1., 1., 1., 1., 1., -inf, -inf, -inf],\n",
       "        [1., 1., 1., 1., 1., 1., -inf, -inf],\n",
       "        [1., 1., 1., 1., 1., 1., 1., -inf],\n",
       "        [1., 1., 1., 1., 1., 1., 1., 1.]])"
      ]
     },
     "execution_count": 56,
     "metadata": {},
     "output_type": "execute_result"
    }
   ],
   "source": [
    "k = torch.tril(torch.ones(block_size, block_size))\n",
    "#g = nn.Module.register_buffer('tril', torch.tril(torch.ones(block_size, block_size)))\n",
    "k.masked_fill(k[:10, :10] == 0, float('-inf'))"
   ]
  },
  {
   "cell_type": "code",
   "execution_count": null,
   "id": "95082ee5",
   "metadata": {},
   "outputs": [],
   "source": []
  },
  {
   "cell_type": "code",
   "execution_count": 41,
   "id": "069d53ef",
   "metadata": {},
   "outputs": [],
   "source": [
    "class MultiHeadAttention(nn.Module):\n",
    "    # multiple self attention heads\n",
    "    \n",
    "    def __init__(self, n_head, head_size):\n",
    "        super().__init__()\n",
    "        \n",
    "        self.heads = nn.ModuleList([Head(head_size) for _ in range(n_head)]) \n",
    "        self.proj = nn.Linear(head_size * n_head, n_embed)\n",
    "        self.dropout = nn.Dropout(dropout)\n",
    "        \n",
    "    def forward(self, x):\n",
    "        out = torch.cat([h(x) for h in self.heads], dim = -1)\n",
    "        out = self.dropout(self.proj(out))\n",
    "        return out\n",
    "    \n",
    "    "
   ]
  },
  {
   "cell_type": "code",
   "execution_count": 42,
   "id": "419e48cd",
   "metadata": {},
   "outputs": [],
   "source": [
    "class FeedForward(nn.Module):\n",
    "    def __init__(self, n_embed):\n",
    "        super().__init__()\n",
    "        self.net = nn.Sequential(\n",
    "\n",
    "                nn.Linear(n_embed, 4 * n_embed),\n",
    "                nn.ReLU(), \n",
    "                nn.Linear(4 * n_embed, n_embed),\n",
    "                nn.Dropout(dropout)\n",
    "        )\n",
    "        \n",
    "    def forward(self, x):\n",
    "        return self.net(x)"
   ]
  },
  {
   "cell_type": "code",
   "execution_count": 43,
   "id": "e0a347e9",
   "metadata": {},
   "outputs": [],
   "source": [
    "class Block(nn.Module):\n",
    "    # transformer bloack : communication followed by computatiojmn\n",
    "    def __init__(self, n_embed, n_head):\n",
    "        super().__init__()\n",
    "        head_size = n_embed // n_head\n",
    "        self.sa = MultiHeadAttention(n_head, head_size)\n",
    "        self.ffwd = FeedForward(n_embed)\n",
    "        self.ln1 = nn.LayerNorm(n_embed)\n",
    "        self.ln2 = nn.LayerNorm(n_embed)     \n",
    "    \n",
    "    def forward(self, x):\n",
    "        x = x + self.sa(self.ln1(x))\n",
    "        x = x + self.ffwd(self.ln2(x))\n",
    "        return x"
   ]
  },
  {
   "cell_type": "code",
   "execution_count": 44,
   "id": "8e5f68e9",
   "metadata": {},
   "outputs": [],
   "source": [
    "class GPTLanguageModel(nn.Module):\n",
    "    def __init__(self):\n",
    "        super().__init__()\n",
    "        self.token_embedding_table = nn.Embedding(vocab_size, n_embed)\n",
    "        self.position_embedding_table = nn.Embedding(block_size, n_embed)\n",
    "        self.blocks = nn.Sequential(*[Block(n_embed, n_head) for _ in range(n_layer)])\n",
    "        self.ln_f = nn.LayerNorm(n_embed)\n",
    "        self.lm_head = nn.Linear(n_embed, vocab_size)\n",
    "\n",
    "        self.apply(self._init_weights)\n",
    "    \n",
    "    def _init_weights(self, module):\n",
    "        if isinstance(module, nn.Linear):\n",
    "            torch.nn.init.normal_(module.weight, mean = 0, std = 0.02)\n",
    "            if module.bias is not None:\n",
    "                torch.nn.init.zeros_(module.bias)\n",
    "                \n",
    "        elif isinstance(module, nn.Embedding):\n",
    "            torch.nn.init.normal_(module.weight, mean = 0, std = 0.02) \n",
    "            \n",
    "    def forward(self, idx, targets = None):\n",
    "        B, T = idx.shape\n",
    "        token_emb = self.token_embedding_table(idx)\n",
    "        pos_emb = self.position_embedding_table(torch.arange(T, device = device)) #T, C\n",
    "        \n",
    "        x = token_emb + pos_emb # b,t,c\n",
    "        x = self.blocks(x) #btc\n",
    "        x = self.ln_f(x) #btc\n",
    "        logits = self.lm_head(x) # (B,T,vocab_size)\n",
    "        \n",
    "        if targets is None:\n",
    "            loss = None\n",
    "        else:\n",
    "            B, T, C = logits.shape\n",
    "            logits = logits.view(B*T, C)\n",
    "            targets = targets.view(B*T)\n",
    "            loss = F.cross_entropy(logits, targets)\n",
    "            \n",
    "        return logits, loss\n",
    "    \n",
    "    def generate(self, idx, max_new_tokens):\n",
    "        # idx is B, T array of indices in current context\n",
    "        \n",
    "        for _ in range(max_new_tokens):\n",
    "            idx_ = idx[:, -block_size:]\n",
    "            logits, loss = self(idx_)\n",
    "            logits = logits[:, -1, :]\n",
    "            probs = F.softmax(logits, dim = -1)\n",
    "            idx_next = torch.multinomial(probs, num_samples = 1)\n",
    "            idx = torch.cat((idx, idx_next), dim = 1)\n",
    "            \n",
    "        return idx"
   ]
  },
  {
   "cell_type": "code",
   "execution_count": 45,
   "id": "5f0487dc",
   "metadata": {},
   "outputs": [
    {
     "name": "stdout",
     "output_type": "stream",
     "text": [
      "0.309465 M parameters\n"
     ]
    }
   ],
   "source": [
    "model = GPTLanguageModel()\n",
    "m = model.to(device)\n",
    "print(sum(p.numel() for p in m.parameters())/1e6, 'M parameters')"
   ]
  },
  {
   "cell_type": "code",
   "execution_count": 46,
   "id": "caa9b123",
   "metadata": {},
   "outputs": [
    {
     "name": "stdout",
     "output_type": "stream",
     "text": [
      "step <built-in function iter>: train loss 4.1749, val loss 4.1777\n",
      "step <built-in function iter>: train loss 2.7071, val loss 2.7129\n",
      "step <built-in function iter>: train loss 2.5132, val loss 2.5086\n",
      "step <built-in function iter>: train loss 2.4535, val loss 2.4648\n",
      "step <built-in function iter>: train loss 2.4018, val loss 2.3887\n",
      "step <built-in function iter>: train loss 2.3459, val loss 2.3438\n",
      "step <built-in function iter>: train loss 2.3259, val loss 2.3464\n",
      "step <built-in function iter>: train loss 2.2912, val loss 2.3053\n",
      "step <built-in function iter>: train loss 2.2664, val loss 2.2835\n",
      "step <built-in function iter>: train loss 2.2424, val loss 2.2637\n",
      "step <built-in function iter>: train loss 2.2382, val loss 2.2774\n",
      "step <built-in function iter>: train loss 2.2115, val loss 2.2262\n",
      "step <built-in function iter>: train loss 2.2134, val loss 2.2303\n",
      "step <built-in function iter>: train loss 2.1678, val loss 2.2037\n",
      "step <built-in function iter>: train loss 2.1726, val loss 2.1969\n",
      "step <built-in function iter>: train loss 2.1497, val loss 2.2112\n",
      "step <built-in function iter>: train loss 2.1343, val loss 2.1744\n",
      "step <built-in function iter>: train loss 2.1446, val loss 2.1717\n",
      "step <built-in function iter>: train loss 2.1293, val loss 2.1653\n",
      "step <built-in function iter>: train loss 2.1226, val loss 2.1657\n",
      "step <built-in function iter>: train loss 2.1100, val loss 2.1411\n",
      "step <built-in function iter>: train loss 2.0913, val loss 2.1442\n",
      "step <built-in function iter>: train loss 2.0937, val loss 2.1439\n",
      "step <built-in function iter>: train loss 2.0846, val loss 2.1302\n",
      "step <built-in function iter>: train loss 2.0654, val loss 2.1216\n",
      "step <built-in function iter>: train loss 2.0777, val loss 2.1288\n",
      "step <built-in function iter>: train loss 2.0558, val loss 2.1370\n",
      "step <built-in function iter>: train loss 2.0486, val loss 2.1362\n",
      "step <built-in function iter>: train loss 2.0659, val loss 2.1212\n",
      "step <built-in function iter>: train loss 2.0643, val loss 2.1395\n",
      "step <built-in function iter>: train loss 2.0510, val loss 2.1171\n",
      "step <built-in function iter>: train loss 2.0465, val loss 2.1137\n",
      "step <built-in function iter>: train loss 2.0457, val loss 2.1168\n",
      "step <built-in function iter>: train loss 2.0268, val loss 2.0993\n",
      "step <built-in function iter>: train loss 2.0507, val loss 2.1045\n",
      "step <built-in function iter>: train loss 2.0209, val loss 2.0899\n",
      "step <built-in function iter>: train loss 2.0148, val loss 2.0911\n",
      "step <built-in function iter>: train loss 2.0075, val loss 2.0984\n",
      "step <built-in function iter>: train loss 2.0083, val loss 2.0847\n"
     ]
    },
    {
     "name": "stderr",
     "output_type": "stream",
     "text": [
      "\n",
      "KeyboardInterrupt\n",
      "\n"
     ]
    }
   ],
   "source": [
    "optimizer = torch.optim.AdamW(model.parameters(), lr = lr)\n",
    "\n",
    "for iters in range(max_iter):\n",
    "    \n",
    "    if iters % 100 == 0:\n",
    "        losses = estimate_loss()\n",
    "        print(f\"step {iters}: train loss {losses['train']:.4f}, val loss {losses['test']:.4f}\")\n",
    "        \n",
    "    xb, yb = get_batch(\"train\")\n",
    "    logits, loss = model(xb, yb)\n",
    "    \n",
    "    optimizer.zero_grad(set_to_none = True)\n",
    "    loss.backward()\n",
    "    optimizer.step()\n",
    "    "
   ]
  },
  {
   "cell_type": "code",
   "execution_count": 48,
   "id": "acfc25ac",
   "metadata": {},
   "outputs": [
    {
     "name": "stdout",
     "output_type": "stream",
     "text": [
      "d.\n",
      "\n",
      "Cits somer word, be boy be; nenterseatt.\n",
      "\n",
      "RICIUSSTATK:\n",
      "And haved youid' way fut is beforther.\n",
      "\n",
      "DUEENG RIGARCAMLA:\n",
      "Way priendest the the 'to gorinlen stice untelin bareist his as to me;\n",
      "And The with:\n",
      "My andidy shohwandlard ranged of for well'll surplier:\n",
      "As Browns\n",
      "Are onthenwith there warl's by enead to ficchnirst unhered,\n",
      "Whe le were, to muse Hows to--\n",
      "\n",
      "Let:\n",
      "\n",
      "Sare If hom thank he howger fore to thest from to tolo mave my nother, his to\n",
      "pay bence as forthy have you, but laonds, day unfrom thim\n"
     ]
    }
   ],
   "source": [
    "context = torch.zeros((1, 1), dtype=torch.long, device=device)\n",
    "print(decoder(m.generate(context, max_new_tokens=500)[0].tolist()))"
   ]
  },
  {
   "cell_type": "code",
   "execution_count": null,
   "id": "3d49e6a5",
   "metadata": {},
   "outputs": [],
   "source": []
  }
 ],
 "metadata": {
  "kernelspec": {
   "display_name": "NLP-Tx",
   "language": "python",
   "name": "nlp-tx"
  },
  "language_info": {
   "codemirror_mode": {
    "name": "ipython",
    "version": 3
   },
   "file_extension": ".py",
   "mimetype": "text/x-python",
   "name": "python",
   "nbconvert_exporter": "python",
   "pygments_lexer": "ipython3",
   "version": "3.10.13"
  }
 },
 "nbformat": 4,
 "nbformat_minor": 5
}
