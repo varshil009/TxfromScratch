{
 "cells": [
  {
   "cell_type": "code",
   "execution_count": 2,
   "id": "d8732308",
   "metadata": {},
   "outputs": [],
   "source": [
    "import torch\n",
    "from torch import nn\n",
    "from torch.nn import functional as F"
   ]
  },
  {
   "cell_type": "code",
   "execution_count": 82,
   "id": "486394b7",
   "metadata": {},
   "outputs": [],
   "source": [
    "# batch size / parallel random contexts\n",
    "batch_size = 32\n",
    "\n",
    "# block size / length of context\n",
    "block_size = 8\n",
    "\n",
    "max_iter = 10000\n",
    "eval_iter = 200\n",
    "\n",
    "eval_interval = 300\n",
    "lr = 1e-3\n",
    "device = torch.device('cuda' if torch.cuda.is_available() else 'cpu') "
   ]
  },
  {
   "cell_type": "code",
   "execution_count": 5,
   "id": "42efd190",
   "metadata": {},
   "outputs": [
    {
     "data": {
      "text/plain": [
       "<torch._C.Generator at 0x203572efdb0>"
      ]
     },
     "execution_count": 5,
     "metadata": {},
     "output_type": "execute_result"
    }
   ],
   "source": [
    "torch.manual_seed(22)"
   ]
  },
  {
   "cell_type": "code",
   "execution_count": 1,
   "id": "60450a61",
   "metadata": {},
   "outputs": [
    {
     "name": "stderr",
     "output_type": "stream",
     "text": [
      "--2024-12-25 13:01:37--  https://raw.githubusercontent.com/karpathy/char-rnn/master/data/tinyshakespeare/input.txt\n",
      "Resolving raw.githubusercontent.com (raw.githubusercontent.com)... 185.199.108.133, 185.199.109.133, 185.199.110.133, ...\n",
      "Connecting to raw.githubusercontent.com (raw.githubusercontent.com)|185.199.108.133|:443... connected.\n",
      "HTTP request sent, awaiting response... 200 OK\n",
      "Length: 1115394 (1.1M) [text/plain]\n",
      "Saving to: 'input.txt'\n",
      "\n",
      "     0K .......... .......... .......... .......... ..........  4% 1.68M 1s\n",
      "    50K .......... .......... .......... .......... ..........  9% 9.96M 0s\n",
      "   100K .......... .......... .......... .......... .......... 13% 2.76M 0s\n",
      "   150K .......... .......... .......... .......... .......... 18% 2.56M 0s\n",
      "   200K .......... .......... .......... .......... .......... 22% 2.79M 0s\n",
      "   250K .......... .......... .......... .......... .......... 27% 2.13M 0s\n",
      "   300K .......... .......... .......... .......... .......... 32% 3.91M 0s\n",
      "   350K .......... .......... .......... .......... .......... 36% 3.30M 0s\n",
      "   400K .......... .......... .......... .......... .......... 41% 1.99M 0s\n",
      "   450K .......... .......... .......... .......... .......... 45% 50.0K 1s\n",
      "   500K .......... .......... .......... .......... .......... 50%  268K 1s\n",
      "   550K .......... .......... .......... .......... .......... 55% 3.20M 1s\n",
      "   600K .......... .......... .......... .......... .......... 59% 3.99M 1s\n",
      "   650K .......... .......... .......... .......... .......... 64%  552K 1s\n",
      "   700K .......... .......... .......... .......... .......... 68% 2.36M 1s\n",
      "   750K .......... .......... .......... .......... .......... 73% 5.77M 1s\n",
      "   800K .......... .......... .......... .......... .......... 78% 2.70M 0s\n",
      "   850K .......... .......... .......... .......... .......... 82% 2.03M 0s\n",
      "   900K .......... .......... .......... .......... .......... 87% 6.35M 0s\n",
      "   950K .......... .......... .......... .......... .......... 91% 5.48M 0s\n",
      "  1000K .......... .......... .......... .......... .......... 96% 3.91M 0s\n",
      "  1050K .......... .......... .......... .........            100% 10.9M=1.6s\n",
      "\n",
      "2024-12-25 13:01:39 (693 KB/s) - 'input.txt' saved [1115394/1115394]\n",
      "\n"
     ]
    }
   ],
   "source": [
    "!wget \"https://raw.githubusercontent.com/karpathy/char-rnn/master/data/tinyshakespeare/input.txt\""
   ]
  },
  {
   "cell_type": "code",
   "execution_count": 6,
   "id": "dab7c752",
   "metadata": {},
   "outputs": [],
   "source": [
    "with open(\"input.txt\", 'r') as f:\n",
    "    text = f.read()\n"
   ]
  },
  {
   "cell_type": "code",
   "execution_count": 7,
   "id": "8b45eb6b",
   "metadata": {},
   "outputs": [
    {
     "data": {
      "text/plain": [
       "\"First Citizen:\\nBefore we proceed any further, hear me speak.\\n\\nAll:\\nSpeak, speak.\\n\\nFirst Citizen:\\nYou are all resolved rather to die than to famish?\\n\\nAll:\\nResolved. resolved.\\n\\nFirst Citizen:\\nFirst, you know Caius Marcius is chief enemy to the people.\\n\\nAll:\\nWe know't, we know't.\\n\\nFirst Citizen:\\nLet us kill him, and we'll have corn at our own price.\\nIs't a verdict?\\n\\nAll:\\nNo more talking on't; let it be done: away, away!\\n\\nSecond Citizen:\\nOne word, good citizens.\\n\\nFirst Citizen:\\nWe are accounted poor\""
      ]
     },
     "execution_count": 7,
     "metadata": {},
     "output_type": "execute_result"
    }
   ],
   "source": [
    "text[:500]"
   ]
  },
  {
   "cell_type": "code",
   "execution_count": 16,
   "id": "23894c51",
   "metadata": {},
   "outputs": [
    {
     "name": "stdout",
     "output_type": "stream",
     "text": [
      "{'i', '?', 'd', 'X', 'I', ' ', 'u', 'r', 'h', 'W', 'N', 'M', 's', 'm', 'k', 'b', 'j', '&', 'R', 'x', 'A', 'Y', 'z', '!', \"'\", 'q', '3', 'C', 'B', 'w', 'y', 'E', '$', 't', 'o', ',', 'p', 'P', 'G', 'g', 'K', '-', 'v', '\\n', 'Z', ';', 'f', ':', 'n', '.', 'S', 'O', 'T', 'Q', 'F', 'V', 'H', 'L', 'D', 'c', 'U', 'l', 'e', 'J', 'a'} \n",
      " {'i': 0, '?': 1, 'd': 2, 'X': 3, 'I': 4, ' ': 5, 'u': 6, 'r': 7, 'h': 8, 'W': 9, 'N': 10, 'M': 11, 's': 12, 'm': 13, 'k': 14, 'b': 15, 'j': 16, '&': 17, 'R': 18, 'x': 19, 'A': 20, 'Y': 21, 'z': 22, '!': 23, \"'\": 24, 'q': 25, '3': 26, 'C': 27, 'B': 28, 'w': 29, 'y': 30, 'E': 31, '$': 32, 't': 33, 'o': 34, ',': 35, 'p': 36, 'P': 37, 'G': 38, 'g': 39, 'K': 40, '-': 41, 'v': 42, '\\n': 43, 'Z': 44, ';': 45, 'f': 46, ':': 47, 'n': 48, '.': 49, 'S': 50, 'O': 51, 'T': 52, 'Q': 53, 'F': 54, 'V': 55, 'H': 56, 'L': 57, 'D': 58, 'c': 59, 'U': 60, 'l': 61, 'e': 62, 'J': 63, 'a': 64} \n",
      " {0: 'i', 1: '?', 2: 'd', 3: 'X', 4: 'I', 5: ' ', 6: 'u', 7: 'r', 8: 'h', 9: 'W', 10: 'N', 11: 'M', 12: 's', 13: 'm', 14: 'k', 15: 'b', 16: 'j', 17: '&', 18: 'R', 19: 'x', 20: 'A', 21: 'Y', 22: 'z', 23: '!', 24: \"'\", 25: 'q', 26: '3', 27: 'C', 28: 'B', 29: 'w', 30: 'y', 31: 'E', 32: '$', 33: 't', 34: 'o', 35: ',', 36: 'p', 37: 'P', 38: 'G', 39: 'g', 40: 'K', 41: '-', 42: 'v', 43: '\\n', 44: 'Z', 45: ';', 46: 'f', 47: ':', 48: 'n', 49: '.', 50: 'S', 51: 'O', 52: 'T', 53: 'Q', 54: 'F', 55: 'V', 56: 'H', 57: 'L', 58: 'D', 59: 'c', 60: 'U', 61: 'l', 62: 'e', 63: 'J', 64: 'a'}\n"
     ]
    }
   ],
   "source": [
    "# take out unique characters and make encoder and decoder functions\n",
    "vocab = set(text)\n",
    "decoded = {i : x for i,x in enumerate(vocab)}\n",
    "encoded = {x : i for i,x in enumerate(vocab)}\n",
    "\n",
    "encoder = lambda text : [encoded[x] for x in text]\n",
    "decoder = lambda text : ''.join([decoded[x] for x in text])\n",
    "print(vocab, \"\\n\", encoded, \"\\n\", decoded)"
   ]
  },
  {
   "cell_type": "code",
   "execution_count": 18,
   "id": "5eba498b",
   "metadata": {},
   "outputs": [
    {
     "data": {
      "text/plain": [
       "[8, 62, 61, 61, 34]"
      ]
     },
     "execution_count": 18,
     "metadata": {},
     "output_type": "execute_result"
    }
   ],
   "source": [
    "encoder(\"hello\")"
   ]
  },
  {
   "cell_type": "code",
   "execution_count": 19,
   "id": "6a0532bc",
   "metadata": {},
   "outputs": [
    {
     "data": {
      "text/plain": [
       "'hello'"
      ]
     },
     "execution_count": 19,
     "metadata": {},
     "output_type": "execute_result"
    }
   ],
   "source": [
    "decoder([8, 62, 61, 61, 34])"
   ]
  },
  {
   "cell_type": "code",
   "execution_count": 21,
   "id": "e89a0dac",
   "metadata": {},
   "outputs": [
    {
     "data": {
      "text/plain": [
       "65"
      ]
     },
     "execution_count": 21,
     "metadata": {},
     "output_type": "execute_result"
    }
   ],
   "source": [
    "vocab_size = len(vocab)\n",
    "vocab_size"
   ]
  },
  {
   "cell_type": "code",
   "execution_count": 27,
   "id": "777b486e",
   "metadata": {},
   "outputs": [],
   "source": [
    "data = torch.tensor(encoder(text))\n",
    "n = int(len(data) * 0.85)\n",
    "\n",
    "trainX = data[:n]\n",
    "testX = data[n:]"
   ]
  },
  {
   "cell_type": "code",
   "execution_count": 26,
   "id": "bdfc3066",
   "metadata": {},
   "outputs": [
    {
     "data": {
      "text/plain": [
       "(1115394, tensor([54,  0,  7,  ..., 39, 49, 43]))"
      ]
     },
     "execution_count": 26,
     "metadata": {},
     "output_type": "execute_result"
    }
   ],
   "source": [
    "len(data), data"
   ]
  },
  {
   "cell_type": "code",
   "execution_count": 30,
   "id": "f1c16481",
   "metadata": {},
   "outputs": [
    {
     "data": {
      "text/plain": [
       "(torch.Size([948084]), torch.Size([167310]))"
      ]
     },
     "execution_count": 30,
     "metadata": {},
     "output_type": "execute_result"
    }
   ],
   "source": [
    "trainX.shape, testX.shape"
   ]
  },
  {
   "cell_type": "code",
   "execution_count": 71,
   "id": "0ded711d",
   "metadata": {},
   "outputs": [],
   "source": [
    "def get_batch(x):\n",
    "    data = trainX if x == 'train' else testX\n",
    "    # get random contexts starting index for given batch size parallel processing\n",
    "    idx = torch.randint(len(data) - block_size, (batch_size,))\n",
    "\n",
    "    rcx = torch.stack([data[i: i + block_size] for i in idx])\n",
    "    rcy = torch.stack([data[i+1 : i + block_size + 1] for i in idx])\n",
    "    \n",
    "    return rcx, rcy"
   ]
  },
  {
   "cell_type": "code",
   "execution_count": 72,
   "id": "b1d8c4bb",
   "metadata": {},
   "outputs": [],
   "source": [
    "@torch.no_grad()\n",
    "def estimate_loss():\n",
    "    out = {}\n",
    "    model.eval()\n",
    "    for split in ['train', 'test']:\n",
    "        losses = torch.zeros(eval_iter)\n",
    "        for x in range(eval_iter):\n",
    "            X, y = get_batch(split)\n",
    "            logits, loss = model(X, y)\n",
    "            losses[x] = loss.item()\n",
    "            \n",
    "        out[split] = losses.mean()\n",
    "    model.train()\n",
    "    return out"
   ]
  },
  {
   "cell_type": "code",
   "execution_count": 77,
   "id": "50b258cd",
   "metadata": {},
   "outputs": [],
   "source": [
    "class BigramLanguageModel(nn.Module):\n",
    "    \n",
    "    def __init__(self, vocab_size):\n",
    "        super().__init__()\n",
    "        self.token_embedding_table = nn.Embedding(vocab_size, vocab_size)\n",
    "    \n",
    "    def forward(self, idx, targets = None):\n",
    "        logits = self.token_embedding_table(idx) # B,T,C\n",
    "        # for each characters 65 features are created\n",
    "        \n",
    "        if targets is None:\n",
    "            loss = None\n",
    "        else:\n",
    "            B, T, C = logits.shape\n",
    "            logits = logits.view(B*T, C)\n",
    "            targets = targets.view(B*T)\n",
    "            loss = F.cross_entropy(logits, targets)\n",
    "            \n",
    "        return logits, loss\n",
    "    \n",
    "    def generate(self, idx, max_new_tokens):\n",
    "        for _ in range(max_new_tokens):\n",
    "            \n",
    "            logits, loss = self(idx)\n",
    "            logits = logits[:, -1, :]\n",
    "            \n",
    "            probs = F.softmax(logits, dim = -1)\n",
    "            next_id = torch.multinomial(probs, num_samples = 1)\n",
    "            idx = torch.cat((idx, next_id), dim = 1)\n",
    "        \n",
    "        return idx"
   ]
  },
  {
   "cell_type": "code",
   "execution_count": 78,
   "id": "c9645f97",
   "metadata": {},
   "outputs": [],
   "source": [
    "model = BigramLanguageModel(vocab_size)\n",
    "m = model.to(device)"
   ]
  },
  {
   "cell_type": "code",
   "execution_count": 83,
   "id": "87d2116a",
   "metadata": {},
   "outputs": [
    {
     "name": "stdout",
     "output_type": "stream",
     "text": [
      "step 0: train loss 3.3696, val loss 3.3881\n",
      "step 100: train loss 3.3026, val loss 3.3151\n",
      "step 200: train loss 3.2439, val loss 3.2550\n",
      "step 300: train loss 3.1871, val loss 3.1900\n",
      "step 400: train loss 3.1348, val loss 3.1481\n",
      "step 500: train loss 3.0872, val loss 3.1038\n",
      "step 600: train loss 3.0343, val loss 3.0567\n",
      "step 700: train loss 3.0045, val loss 3.0148\n",
      "step 800: train loss 2.9615, val loss 2.9797\n",
      "step 900: train loss 2.9219, val loss 2.9527\n",
      "step 1000: train loss 2.8902, val loss 2.9060\n",
      "step 1100: train loss 2.8601, val loss 2.8789\n",
      "step 1200: train loss 2.8317, val loss 2.8529\n",
      "step 1300: train loss 2.8006, val loss 2.8333\n",
      "step 1400: train loss 2.7860, val loss 2.8076\n",
      "step 1500: train loss 2.7626, val loss 2.7720\n",
      "step 1600: train loss 2.7476, val loss 2.7501\n",
      "step 1700: train loss 2.7220, val loss 2.7508\n",
      "step 1800: train loss 2.7126, val loss 2.7175\n",
      "step 1900: train loss 2.6859, val loss 2.7053\n",
      "step 2000: train loss 2.6760, val loss 2.6890\n",
      "step 2100: train loss 2.6631, val loss 2.6913\n",
      "step 2200: train loss 2.6464, val loss 2.6646\n",
      "step 2300: train loss 2.6325, val loss 2.6594\n",
      "step 2400: train loss 2.6249, val loss 2.6552\n",
      "step 2500: train loss 2.6170, val loss 2.6396\n",
      "step 2600: train loss 2.6046, val loss 2.6328\n",
      "step 2700: train loss 2.5991, val loss 2.6179\n",
      "step 2800: train loss 2.5822, val loss 2.6114\n",
      "step 2900: train loss 2.5841, val loss 2.6062\n",
      "step 3000: train loss 2.5762, val loss 2.5956\n",
      "step 3100: train loss 2.5650, val loss 2.5859\n",
      "step 3200: train loss 2.5666, val loss 2.5915\n",
      "step 3300: train loss 2.5585, val loss 2.5813\n",
      "step 3400: train loss 2.5516, val loss 2.5741\n",
      "step 3500: train loss 2.5369, val loss 2.5640\n",
      "step 3600: train loss 2.5338, val loss 2.5607\n",
      "step 3700: train loss 2.5468, val loss 2.5584\n",
      "step 3800: train loss 2.5242, val loss 2.5512\n",
      "step 3900: train loss 2.5303, val loss 2.5571\n",
      "step 4000: train loss 2.5281, val loss 2.5415\n",
      "step 4100: train loss 2.5277, val loss 2.5423\n",
      "step 4200: train loss 2.5243, val loss 2.5355\n",
      "step 4300: train loss 2.5103, val loss 2.5422\n",
      "step 4400: train loss 2.5119, val loss 2.5424\n",
      "step 4500: train loss 2.5106, val loss 2.5306\n",
      "step 4600: train loss 2.5011, val loss 2.5265\n",
      "step 4700: train loss 2.5078, val loss 2.5409\n",
      "step 4800: train loss 2.5047, val loss 2.5342\n",
      "step 4900: train loss 2.5019, val loss 2.5239\n",
      "step 5000: train loss 2.5006, val loss 2.5276\n",
      "step 5100: train loss 2.5073, val loss 2.5206\n",
      "step 5200: train loss 2.4853, val loss 2.5280\n",
      "step 5300: train loss 2.4901, val loss 2.5224\n",
      "step 5400: train loss 2.4939, val loss 2.5144\n",
      "step 5500: train loss 2.4865, val loss 2.5208\n",
      "step 5600: train loss 2.4783, val loss 2.5196\n",
      "step 5700: train loss 2.4823, val loss 2.5103\n",
      "step 5800: train loss 2.4961, val loss 2.5137\n",
      "step 5900: train loss 2.4793, val loss 2.5186\n",
      "step 6000: train loss 2.4757, val loss 2.5186\n",
      "step 6100: train loss 2.4936, val loss 2.5079\n",
      "step 6200: train loss 2.4876, val loss 2.5085\n",
      "step 6300: train loss 2.4798, val loss 2.5134\n",
      "step 6400: train loss 2.4756, val loss 2.5103\n",
      "step 6500: train loss 2.4854, val loss 2.5140\n",
      "step 6600: train loss 2.4807, val loss 2.5046\n",
      "step 6700: train loss 2.4762, val loss 2.5086\n",
      "step 6800: train loss 2.4654, val loss 2.5075\n",
      "step 6900: train loss 2.4716, val loss 2.5026\n",
      "step 7000: train loss 2.4715, val loss 2.4997\n",
      "step 7100: train loss 2.4777, val loss 2.5058\n",
      "step 7200: train loss 2.4730, val loss 2.4877\n",
      "step 7300: train loss 2.4716, val loss 2.5049\n",
      "step 7400: train loss 2.4743, val loss 2.4938\n",
      "step 7500: train loss 2.4710, val loss 2.4988\n",
      "step 7600: train loss 2.4771, val loss 2.5000\n",
      "step 7700: train loss 2.4693, val loss 2.5127\n",
      "step 7800: train loss 2.4612, val loss 2.5014\n",
      "step 7900: train loss 2.4683, val loss 2.5033\n",
      "step 8000: train loss 2.4709, val loss 2.4995\n",
      "step 8100: train loss 2.4666, val loss 2.4997\n",
      "step 8200: train loss 2.4650, val loss 2.5078\n",
      "step 8300: train loss 2.4686, val loss 2.4985\n",
      "step 8400: train loss 2.4563, val loss 2.4910\n",
      "step 8500: train loss 2.4705, val loss 2.4948\n",
      "step 8600: train loss 2.4716, val loss 2.4986\n",
      "step 8700: train loss 2.4617, val loss 2.4976\n",
      "step 8800: train loss 2.4553, val loss 2.4920\n",
      "step 8900: train loss 2.4637, val loss 2.5110\n",
      "step 9000: train loss 2.4740, val loss 2.4961\n",
      "step 9100: train loss 2.4606, val loss 2.5010\n",
      "step 9200: train loss 2.4587, val loss 2.5050\n",
      "step 9300: train loss 2.4585, val loss 2.5009\n",
      "step 9400: train loss 2.4624, val loss 2.5001\n",
      "step 9500: train loss 2.4638, val loss 2.5038\n",
      "step 9600: train loss 2.4655, val loss 2.4943\n",
      "step 9700: train loss 2.4643, val loss 2.5086\n",
      "step 9800: train loss 2.4585, val loss 2.4962\n",
      "step 9900: train loss 2.4493, val loss 2.4896\n",
      "ipleksd ly Xndes tt An.\n",
      "US:\n",
      "\n",
      "STI he hathissthemy.\n",
      "SA th by'\n",
      "NChathe\n",
      "\n",
      "Heat CRY s's wise hiomyor s ton lontoto spr athe is bene g mo bo\n",
      "Shwinos ngous ash hareen t ye, Lu prd iveacof ivor?\n",
      "Ane bugasp, 'd werelitheond w sofatowhe.\n",
      "MIs lamau thoriurom:\n",
      "Th beftawee;\n",
      "ARIUSBIrim h hathey ame;\n",
      "LO:\n",
      "Th seept'd! Wome, se, havon ang st:\n",
      "NEShyor\n",
      "\n",
      "Fackn the ancadou Mincicores noand r ff Thithed y n y ENus ombesoustiugenge. Cous agomous arese bere d urs wne tha ther fedou t me d ARMEThifonovempr be.\n",
      "Dote w, oLAn\n"
     ]
    }
   ],
   "source": [
    "optimizer = torch.optim.AdamW(model.parameters(), lr = lr)\n",
    "\n",
    "for iters in range(max_iter):\n",
    "    if iters % 100 == 0:\n",
    "        losses = estimate_loss()\n",
    "        print(f\"step {iters}: train loss {losses['train']:.4f}, val loss {losses['test']:.4f}\")\n",
    "        \n",
    "    xb, yb = get_batch(\"train\")\n",
    "    logits, loss = model(xb, yb)\n",
    "    optimizer.zero_grad(set_to_none = True)\n",
    "    loss.backward()\n",
    "    optimizer.step()\n",
    "    \n",
    "context = torch.zeros((1, 1), dtype = torch.long, device = device) \n",
    "print(decoder(m.generate(context, max_new_tokens=500)[0].tolist()))"
   ]
  },
  {
   "cell_type": "code",
   "execution_count": 84,
   "id": "b5d1795a",
   "metadata": {},
   "outputs": [
    {
     "name": "stdout",
     "output_type": "stream",
     "text": [
      "is winom kelorot aist thelis my kisthenig ABefane they hakeanee othitizf dy besan tous.\n",
      "KI th:\n",
      "ER:\n",
      "INVI s, gestrno,\n",
      "\n",
      "QCHARGl e,\n",
      "Or ton o,\n",
      "OMorut youtlaisstheastug aive.\n",
      "N me surmoid t be seis hath he d Whactagish brantor, ba my pee.\n",
      "Watry ind ke thith t G BRGlke blu P, stof her ave it IVOHYowisthichare kend hero\n",
      "Gl pry sosio the.\n",
      "s tw p w qulaidief t st, we,\n",
      "\n",
      "Aneerig lld her mby,\n",
      "N HELEE wn'er, bugecck:\n",
      "Nove thoke\n",
      "That nt foreichyovell a thituinhenthe,\n",
      "I:\n",
      "Ro his\n",
      "DWheigomelomy chitukild thasen nshat.\n",
      "INTh?\n",
      "A ow.\n",
      "\n",
      "Myorth w wheda priams. g,\n",
      "Whirthers re toorss d tane ttou-\n",
      "Hers n.\n",
      "Forinof tem. re ppevit\n",
      "LAgom ton, ve heprd fam tind VICE:\n",
      "'d, d whe gady ca, anshar witrcok ed cheave B th stestrine s nt veme.\n",
      "\n",
      "NGirksole, he hepelld n\n",
      "THamil heathe nlotr?\n",
      "Be birarowhenoorumenthed hit ps uo; the cus,\n",
      "Cor'r hatherdin' Sol mad, moth wn surollix--llis,\n",
      "I izad pealams wetey tusefeofuce wonobly, is\n",
      "ORE bllsmine smyseve,\n",
      "I tilon ulon tace su, s caly cet t' t bthe ttugr men,\n",
      "\n",
      "toond, atharowothr.\n",
      "By tho\n",
      "\n",
      "Teraunee be, thsing. akn LENTher qul he ur: m msamerdy histhind?\n",
      "Th in f d oour ses f the sh the, bur! illyom lendit I pburirdinoof ay, cty fong fithif tie d,\n",
      "INI: if Fo fownouly.\n",
      "LLOR:\n",
      "\n",
      "NRof mirt har\n",
      "'t, I hath illoth s foure,\n",
      "METhr m wif GLORI drst nge:\n",
      "OPAd imu\n",
      "\n",
      "Sherrit\n",
      "\n",
      "S:\n",
      "rboncou: t t.\n",
      "Angache it aorery ous parerdpalolen ass, ardwivemendit ary fo wakispl od wis? sorin, o s th m? Clsthe in ro ngeisitin.\n",
      "LEN s fashirt, leigimowiny?\n",
      "Iseatrrs, los K:\n",
      "\n",
      "The d nainewe t itir\n",
      "Stee it bunowerowno\n"
     ]
    }
   ],
   "source": [
    "print(decoder(m.generate(context, max_new_tokens=1500)[0].tolist()))"
   ]
  },
  {
   "cell_type": "code",
   "execution_count": null,
   "id": "1de5b0e3",
   "metadata": {},
   "outputs": [],
   "source": []
  }
 ],
 "metadata": {
  "kernelspec": {
   "display_name": "Python 3 (ipykernel)",
   "language": "python",
   "name": "python3"
  },
  "language_info": {
   "codemirror_mode": {
    "name": "ipython",
    "version": 3
   },
   "file_extension": ".py",
   "mimetype": "text/x-python",
   "name": "python",
   "nbconvert_exporter": "python",
   "pygments_lexer": "ipython3",
   "version": "3.9.6"
  }
 },
 "nbformat": 4,
 "nbformat_minor": 5
}
